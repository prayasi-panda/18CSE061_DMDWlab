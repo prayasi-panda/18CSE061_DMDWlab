{
  "nbformat": 4,
  "nbformat_minor": 0,
  "metadata": {
    "colab": {
      "name": "18CSE061_dmdwlab1_assignment1.ipynb",
      "provenance": [],
      "collapsed_sections": [],
      "include_colab_link": true
    },
    "kernelspec": {
      "name": "python3",
      "display_name": "Python 3"
    }
  },
  "cells": [
    {
      "cell_type": "markdown",
      "metadata": {
        "id": "view-in-github",
        "colab_type": "text"
      },
      "source": [
        "<a href=\"https://colab.research.google.com/github/prayasi-panda/18CSE061_DMDWlab_assign1/blob/main/18CSE061_dmdwlab1_assignment1.ipynb\" target=\"_parent\"><img src=\"https://colab.research.google.com/assets/colab-badge.svg\" alt=\"Open In Colab\"/></a>"
      ]
    },
    {
      "cell_type": "markdown",
      "metadata": {
        "id": "7RVOsuRg6un9"
      },
      "source": [
        "**Q1. Write a python code for finding mean, median and mode**"
      ]
    },
    {
      "cell_type": "code",
      "metadata": {
        "id": "pdChX5yf4OFk"
      },
      "source": [
        "import numpy"
      ],
      "execution_count": null,
      "outputs": []
    },
    {
      "cell_type": "code",
      "metadata": {
        "id": "G2nZQtn97fGA"
      },
      "source": [
        "from scipy import stats"
      ],
      "execution_count": null,
      "outputs": []
    },
    {
      "cell_type": "code",
      "metadata": {
        "id": "6mr4ul8w5oZM"
      },
      "source": [
        "age= [19,46,67,38,11,46,13,57,44,78,37,55,36]"
      ],
      "execution_count": null,
      "outputs": []
    },
    {
      "cell_type": "code",
      "metadata": {
        "id": "Hmvn0tZ253zI"
      },
      "source": [
        "x = numpy.mean(age)"
      ],
      "execution_count": null,
      "outputs": []
    },
    {
      "cell_type": "code",
      "metadata": {
        "id": "lS_VGYwk5_CH"
      },
      "source": [
        "y = numpy.median(age)"
      ],
      "execution_count": null,
      "outputs": []
    },
    {
      "cell_type": "code",
      "metadata": {
        "id": "0GLa52RE6-R4"
      },
      "source": [
        "z = stats.mode(age)"
      ],
      "execution_count": null,
      "outputs": []
    },
    {
      "cell_type": "code",
      "metadata": {
        "id": "98oAMqSF7qY2",
        "colab": {
          "base_uri": "https://localhost:8080/"
        },
        "outputId": "2cd5ae02-f48b-4535-920d-5228fa17c52c"
      },
      "source": [
        "print('Mean = ',x)"
      ],
      "execution_count": null,
      "outputs": [
        {
          "output_type": "stream",
          "text": [
            "Mean =  42.07692307692308\n"
          ],
          "name": "stdout"
        }
      ]
    },
    {
      "cell_type": "code",
      "metadata": {
        "id": "YJjm3kGY7qh4",
        "colab": {
          "base_uri": "https://localhost:8080/"
        },
        "outputId": "fb895686-9e4c-4b61-e42f-646c46306c85"
      },
      "source": [
        "print('Median = ',y)"
      ],
      "execution_count": null,
      "outputs": [
        {
          "output_type": "stream",
          "text": [
            "Median =  44.0\n"
          ],
          "name": "stdout"
        }
      ]
    },
    {
      "cell_type": "code",
      "metadata": {
        "id": "aXDU-iKe7qqk",
        "colab": {
          "base_uri": "https://localhost:8080/"
        },
        "outputId": "25088b2e-2d10-4adb-ef9a-da19e6115f3f"
      },
      "source": [
        "print('Mode = ',z)"
      ],
      "execution_count": null,
      "outputs": [
        {
          "output_type": "stream",
          "text": [
            "Mode =  ModeResult(mode=array([46]), count=array([2]))\n"
          ],
          "name": "stdout"
        }
      ]
    },
    {
      "cell_type": "markdown",
      "metadata": {
        "id": "5PloinNJ6-r2"
      },
      "source": [
        "**Q2. Write a python code for calculating variance and standard deviation for the  set of elements.**"
      ]
    },
    {
      "cell_type": "code",
      "metadata": {
        "id": "n1D4qZ906CWY"
      },
      "source": [
        "s = numpy.std(age)"
      ],
      "execution_count": null,
      "outputs": []
    },
    {
      "cell_type": "code",
      "metadata": {
        "id": "O7_mIWgc6F8D"
      },
      "source": [
        "v = numpy.var(age)"
      ],
      "execution_count": null,
      "outputs": []
    },
    {
      "cell_type": "code",
      "metadata": {
        "id": "Z-BIWFQL6V0h",
        "colab": {
          "base_uri": "https://localhost:8080/"
        },
        "outputId": "a67611dd-e7bd-42b6-b92c-05c71f455f41"
      },
      "source": [
        "print('Standard Deviation = ',s)"
      ],
      "execution_count": null,
      "outputs": [
        {
          "output_type": "stream",
          "text": [
            "Standard Deviation =  19.132982149083812\n"
          ],
          "name": "stdout"
        }
      ]
    },
    {
      "cell_type": "code",
      "metadata": {
        "id": "74rkqJ4p6as_",
        "colab": {
          "base_uri": "https://localhost:8080/"
        },
        "outputId": "1f0c0ff5-4623-4866-8a7c-3afac64dc99a"
      },
      "source": [
        "print('Variacnce = ',v)"
      ],
      "execution_count": null,
      "outputs": [
        {
          "output_type": "stream",
          "text": [
            "Variacnce =  366.07100591715977\n"
          ],
          "name": "stdout"
        }
      ]
    },
    {
      "cell_type": "markdown",
      "metadata": {
        "id": "mm7vPkAT77B0"
      },
      "source": [
        "**Practice some basic python programs**"
      ]
    },
    {
      "cell_type": "code",
      "metadata": {
        "id": "LXbaZZte8CpN",
        "colab": {
          "base_uri": "https://localhost:8080/"
        },
        "outputId": "1174b93a-0457-4531-f682-772373d7b411"
      },
      "source": [
        "# This program prints Hello, world!\n",
        "\n",
        "print('Hello, world!')"
      ],
      "execution_count": null,
      "outputs": [
        {
          "output_type": "stream",
          "text": [
            "Hello, world!\n"
          ],
          "name": "stdout"
        }
      ]
    },
    {
      "cell_type": "code",
      "metadata": {
        "id": "a2SXyU608YWS",
        "colab": {
          "base_uri": "https://localhost:8080/"
        },
        "outputId": "0d0b3d05-9369-4ed3-f30e-1c8fa65acbeb"
      },
      "source": [
        "# This program adds two numbers\n",
        "\n",
        "num1 = 1.5\n",
        "num2 = 6.3\n",
        "\n",
        "# Add two numbers\n",
        "sum = num1 + num2\n",
        "\n",
        "# Display the sum\n",
        "print('The sum of {0} and {1} is {2}'.format(num1, num2, sum))"
      ],
      "execution_count": null,
      "outputs": [
        {
          "output_type": "stream",
          "text": [
            "The sum of 1.5 and 6.3 is 7.8\n"
          ],
          "name": "stdout"
        }
      ]
    },
    {
      "cell_type": "code",
      "metadata": {
        "id": "mVDfAFG-8dPP",
        "colab": {
          "base_uri": "https://localhost:8080/"
        },
        "outputId": "33d4d4dd-c43f-4e52-a849-54e71f1ff5cf"
      },
      "source": [
        "# Python Program to calculate the square root\n",
        "\n",
        "num = 8 \n",
        "\n",
        "num_sqrt = num ** 0.5\n",
        "print('The square root of %0.3f is %0.3f'%(num ,num_sqrt))"
      ],
      "execution_count": null,
      "outputs": [
        {
          "output_type": "stream",
          "text": [
            "The square root of 8.000 is 2.828\n"
          ],
          "name": "stdout"
        }
      ]
    },
    {
      "cell_type": "code",
      "metadata": {
        "id": "vFr9zZy88oTN",
        "colab": {
          "base_uri": "https://localhost:8080/"
        },
        "outputId": "27521974-6450-4e2e-e5bf-f068b5ccee4b"
      },
      "source": [
        "# Solve the quadratic equation ax**2 + bx + c = 0\n",
        "\n",
        "# import complex math module\n",
        "import cmath\n",
        "\n",
        "a = 1\n",
        "b = 5\n",
        "c = 6\n",
        "\n",
        "# calculate the discriminant\n",
        "d = (b**2) - (4*a*c)\n",
        "\n",
        "# find two solutions\n",
        "sol1 = (-b-cmath.sqrt(d))/(2*a)\n",
        "sol2 = (-b+cmath.sqrt(d))/(2*a)\n",
        "\n",
        "print('The solution are {0} and {1}'.format(sol1,sol2))"
      ],
      "execution_count": null,
      "outputs": [
        {
          "output_type": "stream",
          "text": [
            "The solution are (-3+0j) and (-2+0j)\n"
          ],
          "name": "stdout"
        }
      ]
    },
    {
      "cell_type": "code",
      "metadata": {
        "id": "UJm_a8g781cP",
        "colab": {
          "base_uri": "https://localhost:8080/"
        },
        "outputId": "13346b64-3783-4e48-bc19-6d3e16ef9ce5"
      },
      "source": [
        "# Python program to swap two variables\n",
        "\n",
        "x = 6\n",
        "y = 90\n",
        "\n",
        "# create a temporary variable and swap the values\n",
        "temp = x\n",
        "x = y\n",
        "y = temp\n",
        "\n",
        "print('The value of x after swapping: {}'.format(x))\n",
        "print('The value of y after swapping: {}'.format(y))"
      ],
      "execution_count": null,
      "outputs": [
        {
          "output_type": "stream",
          "text": [
            "The value of x after swapping: 90\n",
            "The value of y after swapping: 6\n"
          ],
          "name": "stdout"
        }
      ]
    },
    {
      "cell_type": "code",
      "metadata": {
        "id": "FggZVKQc9ANq",
        "colab": {
          "base_uri": "https://localhost:8080/"
        },
        "outputId": "3bad39ae-ea82-4374-927f-cadd38f7e616"
      },
      "source": [
        "# Program to generate a random number between 0 and 9\n",
        "\n",
        "# importing the random module\n",
        "import random\n",
        "\n",
        "print(random.randint(0,9))"
      ],
      "execution_count": null,
      "outputs": [
        {
          "output_type": "stream",
          "text": [
            "3\n"
          ],
          "name": "stdout"
        }
      ]
    },
    {
      "cell_type": "code",
      "metadata": {
        "id": "pHrE0iMY9QJj"
      },
      "source": [
        ""
      ],
      "execution_count": null,
      "outputs": []
    }
  ]
}